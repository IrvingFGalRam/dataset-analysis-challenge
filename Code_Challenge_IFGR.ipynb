{
  "nbformat": 4,
  "nbformat_minor": 0,
  "metadata": {
    "colab": {
      "name": "Code_Challenge_IFGR.ipynb",
      "provenance": [],
      "collapsed_sections": [
        "Z0pZ4Vlx3VZy",
        "xC5zauu1W4gg",
        "qJvotLFVbJJk",
        "IZ1tJlMpf_sB",
        "kLRp8K_wnEJG",
        "SPNq7yn74kjd",
        "EGxv7N15AiLu",
        "ijpZht03tV5W",
        "EnHdqUs-nagE"
      ],
      "toc_visible": true
    },
    "kernelspec": {
      "name": "python3",
      "display_name": "Python 3"
    },
    "language_info": {
      "name": "python"
    }
  },
  "cells": [
    {
      "cell_type": "markdown",
      "source": [
        "#Data Bootcamp Selection Challenge\n",
        "#####In this challenge you will calculate various KPIs using a car based dataset, each question will have a single correct answer that will be evaluated through automated unit testing. Use the dictionary provided below to fill in your answers, each question will state the format required for the answer and examples are provided so you know how properly fill the answer dictionary. \n",
        "#####**Use the dataset \"as is\" and do not perform any data cleaning or modify it in any way, doing so could make you answer all your questions incorrectly. Do not modify the structure of the answer dictionary.**\n",
        "\n",
        "#####When you finish this challenge please upload both your notebook and your answer dictionary in pickle format to a public github repository submit their URL to the [google form](https://forms.gle/wWysZEMkoZsjB11Y7) that was provided to you.\n",
        "\n",
        "##### Some unit tests are provided at the end of this notebook to help you verify your answers are in the correct format, however they will not test everything.\n",
        "\n",
        "\n",
        "\n"
      ],
      "metadata": {
        "id": "Ab6tQ8XLwqzG"
      }
    },
    {
      "cell_type": "code",
      "execution_count": 1,
      "metadata": {
        "id": "1kj3oTmRvWXi"
      },
      "outputs": [],
      "source": [
        "#Use this dictionary to store your answers in the correct format in the cells below , do not modify the keys\n",
        "answer_dict =  {\"Q1\" : None,\n",
        "                \"Q2\" : None,\n",
        "                \"Q3\" : None,\n",
        "                \"Q4\" : None,\n",
        "                \"Q5\" : None,\n",
        "                \"Q6\" : None,\n",
        "                \"Q7\" : None}"
      ]
    },
    {
      "cell_type": "markdown",
      "source": [
        "##Reading the dataset\n",
        "#####An example is provided to read the dataset using [pandas](https://pandas.pydata.org/), while we reccommend using pandas you may use any python library to solve this challenge. "
      ],
      "metadata": {
        "id": "Z0pZ4Vlx3VZy"
      }
    },
    {
      "cell_type": "code",
      "source": [
        "import pandas as pd\n",
        "import numpy as np\n",
        "url='https://drive.google.com/file/d/1PCJ7ltluquoXKi6MYTPMfwZQNI_-MIFP/view?usp=sharing'\n",
        "url='https://drive.google.com/uc?id=' + url.split('/')[-2]\n",
        "df_pd = pd.read_csv(url)"
      ],
      "metadata": {
        "id": "7U3UNKSj3oxa"
      },
      "execution_count": 2,
      "outputs": []
    },
    {
      "cell_type": "code",
      "source": [
        "#df_pd.head()"
      ],
      "metadata": {
        "id": "J10uW58Qv2B_"
      },
      "execution_count": 3,
      "outputs": []
    },
    {
      "cell_type": "code",
      "source": [
        "#df_pd.info()"
      ],
      "metadata": {
        "id": "LutcGEx8v4GY"
      },
      "execution_count": 4,
      "outputs": []
    },
    {
      "cell_type": "markdown",
      "source": [
        "## Installing PySpark"
      ],
      "metadata": {
        "id": "xC5zauu1W4gg"
      }
    },
    {
      "cell_type": "markdown",
      "source": [
        "Downloading Java"
      ],
      "metadata": {
        "id": "LH6VfbQ1XWYr"
      }
    },
    {
      "cell_type": "code",
      "source": [
        "!apt-get install openjdk-8-jdk-headless -qq > /dev/null"
      ],
      "metadata": {
        "id": "MWmr_m58XJQR"
      },
      "execution_count": 5,
      "outputs": []
    },
    {
      "cell_type": "markdown",
      "source": [
        "Getting Spark and Hadoop"
      ],
      "metadata": {
        "id": "pBpusRxUXgWN"
      }
    },
    {
      "cell_type": "code",
      "source": [
        "#!wget -q https://www-us.apache.org/dist/spark/spark-3.1.2/spark-3.1.2-bin-hadoop2.7.tgz\n",
        "!wget -q https://archive.apache.org/dist/spark/spark-3.1.2/spark-3.1.2-bin-hadoop2.7.tgz\n",
        "!tar xf spark-3.1.2-bin-hadoop2.7.tgz"
      ],
      "metadata": {
        "id": "VTFs-1PlV3cL"
      },
      "execution_count": 6,
      "outputs": []
    },
    {
      "cell_type": "markdown",
      "source": [
        "Setting environment paths"
      ],
      "metadata": {
        "id": "WNRm0_CfYahM"
      }
    },
    {
      "cell_type": "code",
      "source": [
        "import os\n",
        "os.environ[\"JAVA_HOME\"] = \"/usr/lib/jvm/java-8-openjdk-amd64\"\n",
        "os.environ[\"SPARK_HOME\"] = \"/content/spark-3.1.2-bin-hadoop2.7\""
      ],
      "metadata": {
        "id": "Lthf5o62YZZn"
      },
      "execution_count": 7,
      "outputs": []
    },
    {
      "cell_type": "markdown",
      "source": [
        "Installing findspark"
      ],
      "metadata": {
        "id": "fLJ_K7D2YlUP"
      }
    },
    {
      "cell_type": "code",
      "source": [
        "!pip install -q findspark\n",
        "import findspark\n",
        "findspark.init()"
      ],
      "metadata": {
        "id": "HiuCBCEpYk_C"
      },
      "execution_count": 8,
      "outputs": []
    },
    {
      "cell_type": "markdown",
      "source": [
        "Finally able to import spark"
      ],
      "metadata": {
        "id": "HpPHjsoiZlW3"
      }
    },
    {
      "cell_type": "code",
      "source": [
        "from pyspark.sql import SparkSession\n",
        "spark = SparkSession.builder\\\n",
        "        .master(\"local\")\\\n",
        "        .appName(\"Colab\")\\\n",
        "        .config('spark.ui.port', '4050')\\\n",
        "        .getOrCreate()"
      ],
      "metadata": {
        "id": "D4XxcwHYZmKM"
      },
      "execution_count": 9,
      "outputs": []
    },
    {
      "cell_type": "markdown",
      "source": [
        "Magic to make \"show\" pretty"
      ],
      "metadata": {
        "id": "tQ53-Z0tcaiA"
      }
    },
    {
      "cell_type": "code",
      "source": [
        "%%html\n",
        "<style>\n",
        ".output_subarea.output_text.output_stream.output_stdout > pre {\n",
        "  width:max-content;\n",
        "}\n",
        ".p-Widget.jp-RenderedText.jp-OutputArea-output > pre {\n",
        "  width:max-content;\n",
        "}\n"
      ],
      "metadata": {
        "colab": {
          "base_uri": "https://localhost:8080/",
          "height": 0
        },
        "id": "cPzQWVP9cNIz",
        "outputId": "33cc9b3c-a6be-4cfb-8b23-99cf58b63254"
      },
      "execution_count": 10,
      "outputs": [
        {
          "output_type": "display_data",
          "data": {
            "text/plain": [
              "<IPython.core.display.HTML object>"
            ],
            "text/html": [
              "<style>\n",
              ".output_subarea.output_text.output_stream.output_stdout > pre {\n",
              "  width:max-content;\n",
              "}\n",
              ".p-Widget.jp-RenderedText.jp-OutputArea-output > pre {\n",
              "  width:max-content;\n",
              "}"
            ]
          },
          "metadata": {}
        }
      ]
    },
    {
      "cell_type": "markdown",
      "source": [
        "## Initial show"
      ],
      "metadata": {
        "id": "ofo_noZKrJGo"
      }
    },
    {
      "cell_type": "code",
      "source": [
        "df = spark.createDataFrame(df_pd)\n",
        "df.show(10, truncate=False)"
      ],
      "metadata": {
        "id": "FmQbzOQQZ6mX",
        "colab": {
          "base_uri": "https://localhost:8080/"
        },
        "outputId": "d4c19a4b-396b-4206-81f3-2230b717df78"
      },
      "execution_count": 11,
      "outputs": [
        {
          "output_type": "stream",
          "name": "stdout",
          "text": [
            "+----------------+-------------------+----+-------------------+---------+---------------+-----------------+---------------------------+---------+------------------+--------+-----------+------------+-----------------------+--------------+\n",
            "|Make            |Model              |Year|Engine Displacement|Cylinders|Transmission   |Drivetrain       |Vehicle Class              |Fuel Type|Fuel Barrels/Year |City MPG|Highway MPG|Combined MPG|CO2 Emission Grams/Mile|Fuel Cost/Year|\n",
            "+----------------+-------------------+----+-------------------+---------+---------------+-----------------+---------------------------+---------+------------------+--------+-----------+------------+-----------------------+--------------+\n",
            "|AM General      |DJ Po Vehicle 2WD  |1984|2.5                |4.0      |Automatic 3-spd|2-Wheel Drive    |Special Purpose Vehicle 2WD|Regular  |19.388823529411766|18      |17         |17          |522.7647058823529      |1950          |\n",
            "|AM General      |FJ8c Post Office   |1984|4.2                |6.0      |Automatic 3-spd|2-Wheel Drive    |Special Purpose Vehicle 2WD|Regular  |25.35461538461539 |13      |13         |13          |683.6153846153846      |2550          |\n",
            "|AM General      |Post Office DJ5 2WD|1985|2.5                |4.0      |Automatic 3-spd|Rear-Wheel Drive |Special Purpose Vehicle 2WD|Regular  |20.600625         |16      |17         |16          |555.4375               |2100          |\n",
            "|AM General      |Post Office DJ8 2WD|1985|4.2                |6.0      |Automatic 3-spd|Rear-Wheel Drive |Special Purpose Vehicle 2WD|Regular  |25.35461538461539 |13      |13         |13          |683.6153846153846      |2550          |\n",
            "|ASC Incorporated|GNX                |1987|3.8                |6.0      |Automatic 4-spd|Rear-Wheel Drive |Midsize Cars               |Premium  |20.600625         |14      |21         |16          |555.4375               |2550          |\n",
            "|Acura           |2.2CL/3.0CL        |1997|2.2                |4.0      |Automatic 4-spd|Front-Wheel Drive|Subcompact Cars            |Regular  |14.98227272727273 |20      |26         |22          |403.95454545454544     |1500          |\n",
            "|Acura           |2.2CL/3.0CL        |1997|2.2                |4.0      |Manual 5-spd   |Front-Wheel Drive|Subcompact Cars            |Regular  |13.73375          |22      |28         |24          |370.29166666666674     |1400          |\n",
            "|Acura           |2.2CL/3.0CL        |1997|3.0                |6.0      |Automatic 4-spd|Front-Wheel Drive|Subcompact Cars            |Regular  |16.4805           |18      |26         |20          |444.35                 |1650          |\n",
            "|Acura           |2.3CL/3.0CL        |1998|2.3                |4.0      |Automatic 4-spd|Front-Wheel Drive|Subcompact Cars            |Regular  |14.98227272727273 |19      |27         |22          |403.95454545454544     |1500          |\n",
            "|Acura           |2.3CL/3.0CL        |1998|2.3                |4.0      |Manual 5-spd   |Front-Wheel Drive|Subcompact Cars            |Regular  |13.73375          |21      |29         |24          |370.29166666666674     |1400          |\n",
            "+----------------+-------------------+----+-------------------+---------+---------------+-----------------+---------------------------+---------+------------------+--------+-----------+------------+-----------------------+--------------+\n",
            "only showing top 10 rows\n",
            "\n"
          ]
        }
      ]
    },
    {
      "cell_type": "markdown",
      "source": [
        "## General exploring"
      ],
      "metadata": {
        "id": "qJvotLFVbJJk"
      }
    },
    {
      "cell_type": "markdown",
      "source": [
        "### Schema"
      ],
      "metadata": {
        "id": "1GimGk85sPo7"
      }
    },
    {
      "cell_type": "code",
      "source": [
        "df.printSchema()"
      ],
      "metadata": {
        "colab": {
          "base_uri": "https://localhost:8080/"
        },
        "id": "57RxKpSuc0ia",
        "outputId": "c1cb3468-2a65-48ea-df47-765d791343ca"
      },
      "execution_count": 12,
      "outputs": [
        {
          "output_type": "stream",
          "name": "stdout",
          "text": [
            "root\n",
            " |-- Make: string (nullable = true)\n",
            " |-- Model: string (nullable = true)\n",
            " |-- Year: long (nullable = true)\n",
            " |-- Engine Displacement: double (nullable = true)\n",
            " |-- Cylinders: double (nullable = true)\n",
            " |-- Transmission: string (nullable = true)\n",
            " |-- Drivetrain: string (nullable = true)\n",
            " |-- Vehicle Class: string (nullable = true)\n",
            " |-- Fuel Type: string (nullable = true)\n",
            " |-- Fuel Barrels/Year: double (nullable = true)\n",
            " |-- City MPG: long (nullable = true)\n",
            " |-- Highway MPG: long (nullable = true)\n",
            " |-- Combined MPG: long (nullable = true)\n",
            " |-- CO2 Emission Grams/Mile: double (nullable = true)\n",
            " |-- Fuel Cost/Year: long (nullable = true)\n",
            "\n"
          ]
        }
      ]
    },
    {
      "cell_type": "markdown",
      "source": [
        "### General info"
      ],
      "metadata": {
        "id": "mQE1xruFsS5p"
      }
    },
    {
      "cell_type": "code",
      "source": [
        "df.describe().show()"
      ],
      "metadata": {
        "colab": {
          "base_uri": "https://localhost:8080/"
        },
        "id": "8GOQzbqjdHWp",
        "outputId": "5ef6d956-20be-46ef-856e-a060c2c396c8"
      },
      "execution_count": 13,
      "outputs": [
        {
          "output_type": "stream",
          "name": "stdout",
          "text": [
            "+-------+----------+------------------+------------------+-------------------+-----------------+------------+----------------+--------------------+--------------------+------------------+------------------+------------------+-----------------+-----------------------+------------------+\n",
            "|summary|      Make|             Model|              Year|Engine Displacement|        Cylinders|Transmission|      Drivetrain|       Vehicle Class|           Fuel Type| Fuel Barrels/Year|          City MPG|       Highway MPG|     Combined MPG|CO2 Emission Grams/Mile|    Fuel Cost/Year|\n",
            "+-------+----------+------------------+------------------+-------------------+-----------------+------------+----------------+--------------------+--------------------+------------------+------------------+------------------+-----------------+-----------------------+------------------+\n",
            "|  count|     35952|             35952|             35952|              35952|            35952|       35952|           35952|               35952|               35952|             35952|             35952|             35952|            35952|                  35952|             35952|\n",
            "|   mean|      null|1378.2796992481203|2000.7163996439697| 3.3384929906543324|5.765075656430796|        null|            null|                null|                null|17.609055502328875|17.646139296840232|23.880646417445483|19.92932242990654|     475.31633925715045|1892.5984646194927|\n",
            "| stddev|      null| 2514.634294585583|10.085289549870586| 1.3593953862862715|1.755268231764664|        null|            null|                null|                null| 4.467282686296895| 4.769348813726051|  5.89087635568045| 5.11240894466605|     119.06077323592508|506.95862741782344|\n",
            "|    min|AM General|   1-Ton Truck 2WD|              1984|                0.6|              2.0|   Auto (AV)|   2-Wheel Drive|        Compact Cars|                 CNG|              0.06|                 6|                 9|                7|                   37.0|               600|\n",
            "|    max|     smart|                xD|              2017|                8.4|             16.0|  Manual(M7)|Rear-Wheel Drive|Vans, Passenger Type|Regular Gas or El...| 47.08714285714285|                58|                61|               56|      1269.571428571429|              5800|\n",
            "+-------+----------+------------------+------------------+-------------------+-----------------+------------+----------------+--------------------+--------------------+------------------+------------------+------------------+-----------------+-----------------------+------------------+\n",
            "\n"
          ]
        }
      ]
    },
    {
      "cell_type": "markdown",
      "source": [
        "### Brands"
      ],
      "metadata": {
        "id": "6vLuvJWzdwfQ"
      }
    },
    {
      "cell_type": "code",
      "source": [
        "df.select(\"Make\").distinct().show(truncate=False)"
      ],
      "metadata": {
        "colab": {
          "base_uri": "https://localhost:8080/"
        },
        "id": "GvKbr98GdXwK",
        "outputId": "d27e3512-1f71-49a1-feee-ac28708ba57a"
      },
      "execution_count": 14,
      "outputs": [
        {
          "output_type": "stream",
          "name": "stdout",
          "text": [
            "+----------------------+\n",
            "|Make                  |\n",
            "+----------------------+\n",
            "|Bertone               |\n",
            "|Volkswagen            |\n",
            "|Oldsmobile            |\n",
            "|Sterling              |\n",
            "|PAS, Inc              |\n",
            "|Infiniti              |\n",
            "|Peugeot               |\n",
            "|Lambda Control Systems|\n",
            "|Quantum Technologies  |\n",
            "|J.K. Motors           |\n",
            "|Pininfarina           |\n",
            "|Lexus                 |\n",
            "|Jaguar                |\n",
            "|Roush Performance     |\n",
            "|Evans Automobiles     |\n",
            "|Saturn                |\n",
            "|Ruf Automobile Gmbh   |\n",
            "|Maserati              |\n",
            "|Rolls-Royce           |\n",
            "|Scion                 |\n",
            "+----------------------+\n",
            "only showing top 20 rows\n",
            "\n"
          ]
        }
      ]
    },
    {
      "cell_type": "markdown",
      "source": [
        "## Imports"
      ],
      "metadata": {
        "id": "IZ1tJlMpf_sB"
      }
    },
    {
      "cell_type": "code",
      "source": [
        "from pyspark.sql import functions as f\n",
        "from pyspark.sql.window import Window\n",
        "from pyspark.sql.types import FloatType"
      ],
      "metadata": {
        "id": "OiIOURqBgDO0"
      },
      "execution_count": 15,
      "outputs": []
    },
    {
      "cell_type": "markdown",
      "source": [
        "##Q1. What is the average CO2 emmission per gram/mile of all Volkswagen cars?\n",
        "\n",
        "##### Format: A floating number\n",
        "##### Example answer:\n",
        " `11.547`"
      ],
      "metadata": {
        "id": "kLRp8K_wnEJG"
      }
    },
    {
      "cell_type": "markdown",
      "source": [
        "Getting CO2 average emmissions"
      ],
      "metadata": {
        "id": "kPW6G6uGinfP"
      }
    },
    {
      "cell_type": "code",
      "source": [
        "co2_mean_volks_df = df.where(df[\"Make\"] == \"Volkswagen\").groupBy(\"Make\").avg(\"CO2 Emission Grams/Mile\")"
      ],
      "metadata": {
        "id": "l7SyZ_aLeILq"
      },
      "execution_count": 16,
      "outputs": []
    },
    {
      "cell_type": "markdown",
      "source": [
        "Saving answer"
      ],
      "metadata": {
        "id": "hDAm2dQiqUdE"
      }
    },
    {
      "cell_type": "code",
      "source": [
        "co2_mean_volks_df.show()\n",
        "answer_dict[\"Q1\"] = co2_mean_volks_df.collect()[0][1]\n",
        "print(\"Average CO2 emissions for Volkswagen -> {} gram/mile\".format(answer_dict[\"Q1\"]))"
      ],
      "metadata": {
        "colab": {
          "base_uri": "https://localhost:8080/"
        },
        "id": "7pKLL_3yiR8p",
        "outputId": "70c98a8a-c878-4b2c-b5a2-73367e875277"
      },
      "execution_count": 17,
      "outputs": [
        {
          "output_type": "stream",
          "name": "stdout",
          "text": [
            "+----------+----------------------------+\n",
            "|      Make|avg(CO2 Emission Grams/Mile)|\n",
            "+----------+----------------------------+\n",
            "|Volkswagen|           392.7417210857633|\n",
            "+----------+----------------------------+\n",
            "\n",
            "Average CO2 emissions for Volkswagen -> 392.7417210857633 gram/mile\n"
          ]
        }
      ]
    },
    {
      "cell_type": "markdown",
      "source": [
        "##Q2. Calculate the top 5 brands(Make) with the most unique models, order your answer in descending order with respect to the number of unique models.\n",
        "##### **NOTE:** Consider only the name of the models and their brand, that is use only the Make and Model columns\n",
        "##### Format: A 5X2 list with each row being the name of the brand followed by the unique number of models, in descending order.\n",
        "#####Hint: You can use the pandas [df.values.tolist()](https://pandas.pydata.org/docs/reference/api/pandas.Series.tolist.html) function to format your answer.\n",
        "\n",
        "##### Example answer: \n",
        "`[[\"Volkswagen\", 1000], [\"Toyota\", 900], [\"Honda\", 800], [\"Subaru\", 700], [\"Ford\", 600]]`"
      ],
      "metadata": {
        "id": "SPNq7yn74kjd"
      }
    },
    {
      "cell_type": "markdown",
      "source": [
        "Aggregation to count unique models by brand"
      ],
      "metadata": {
        "id": "lgAwhUdAG6vw"
      }
    },
    {
      "cell_type": "code",
      "source": [
        "unique_models_brands_df = df.select(\"Make\", \"Model\").groupBy(\"Make\").agg(f.countDistinct(\"Model\").alias(\"unique_models\"))"
      ],
      "metadata": {
        "id": "M6bs9lW68F1E"
      },
      "execution_count": 18,
      "outputs": []
    },
    {
      "cell_type": "markdown",
      "source": [
        "Order by most number of unique models"
      ],
      "metadata": {
        "id": "z3jg7ip0HU1n"
      }
    },
    {
      "cell_type": "code",
      "source": [
        "unique_models_brands_df.orderBy(f.desc(\"unique_models\")).show(10, truncate=False)\n"
      ],
      "metadata": {
        "colab": {
          "base_uri": "https://localhost:8080/"
        },
        "id": "VLof3d95_Ifd",
        "outputId": "66b5626f-8f85-463b-f05c-be44a518c541"
      },
      "execution_count": 19,
      "outputs": [
        {
          "output_type": "stream",
          "name": "stdout",
          "text": [
            "+-------------+-------------+\n",
            "|Make         |unique_models|\n",
            "+-------------+-------------+\n",
            "|Mercedes-Benz|333          |\n",
            "|BMW          |284          |\n",
            "|Chevrolet    |253          |\n",
            "|Ford         |185          |\n",
            "|GMC          |163          |\n",
            "|Porsche      |121          |\n",
            "|Dodge        |118          |\n",
            "|Toyota       |100          |\n",
            "|Audi         |95           |\n",
            "|Nissan       |94           |\n",
            "+-------------+-------------+\n",
            "only showing top 10 rows\n",
            "\n"
          ]
        }
      ]
    },
    {
      "cell_type": "markdown",
      "source": [
        "Saving answer"
      ],
      "metadata": {
        "id": "nppaqdIsHpLH"
      }
    },
    {
      "cell_type": "code",
      "source": [
        "# Collecting as a list of the first 5 Rows\n",
        "top_5_um_brands_ls = unique_models_brands_df.orderBy(f.desc(\"unique_models\")).head(5)\n",
        "# Using list comprehension to \"unpack\" the results\n",
        "answer_dict[\"Q2\"] = [[top_5_um_brands_ls[n][0], top_5_um_brands_ls[n][1]] for n in range(5)]\n",
        "print(\"Top 5 brands with the most unique models -> {}\".format(answer_dict[\"Q2\"]))"
      ],
      "metadata": {
        "colab": {
          "base_uri": "https://localhost:8080/"
        },
        "id": "nEZiC2W8vfbT",
        "outputId": "b0e87b15-7ba8-4a9c-8601-f6a50122b91e"
      },
      "execution_count": 20,
      "outputs": [
        {
          "output_type": "stream",
          "name": "stdout",
          "text": [
            "Top 5 brands with the most unique models -> [['Mercedes-Benz', 333], ['BMW', 284], ['Chevrolet', 253], ['Ford', 185], ['GMC', 163]]\n"
          ]
        }
      ]
    },
    {
      "cell_type": "markdown",
      "source": [
        "##Q3. What are all the different types of fuels in the dataset sorted alphabetically?\n",
        "##### Format: A list of strings sorted alphabetically.\n",
        "##### Example Answer: \n",
        "`['Regular',\n",
        " 'Premium']`"
      ],
      "metadata": {
        "id": "EGxv7N15AiLu"
      }
    },
    {
      "cell_type": "markdown",
      "source": [
        "Getting the diferent types of fuels"
      ],
      "metadata": {
        "id": "BSK9yyK1P8VZ"
      }
    },
    {
      "cell_type": "code",
      "source": [
        "fuel_types_df = df.select(\"Fuel Type\").distinct().sort(\"Fuel Type\")\n",
        "fuel_types_df.show(truncate=False)"
      ],
      "metadata": {
        "colab": {
          "base_uri": "https://localhost:8080/"
        },
        "id": "AtnyJPS7J1n3",
        "outputId": "d368f2c0-d5f9-471d-a709-d504c8b53372"
      },
      "execution_count": 21,
      "outputs": [
        {
          "output_type": "stream",
          "name": "stdout",
          "text": [
            "+---------------------------+\n",
            "|Fuel Type                  |\n",
            "+---------------------------+\n",
            "|CNG                        |\n",
            "|Diesel                     |\n",
            "|Gasoline or E85            |\n",
            "|Gasoline or natural gas    |\n",
            "|Gasoline or propane        |\n",
            "|Midgrade                   |\n",
            "|Premium                    |\n",
            "|Premium Gas or Electricity |\n",
            "|Premium and Electricity    |\n",
            "|Premium or E85             |\n",
            "|Regular                    |\n",
            "|Regular Gas and Electricity|\n",
            "|Regular Gas or Electricity |\n",
            "+---------------------------+\n",
            "\n"
          ]
        }
      ]
    },
    {
      "cell_type": "markdown",
      "source": [
        "This is the answer using the dataset \"as is\". To avoid the case-sensitive sorting we could add a lowercase version of the *Fuel Type* column, sort by that column and drop it at the end."
      ],
      "metadata": {
        "id": "KC8FKRUwNBtT"
      }
    },
    {
      "cell_type": "code",
      "source": [
        "# Collecting as a list of Rows\n",
        "ordered_ft_ls = fuel_types_df.collect()\n",
        "# Unpacking answer\n",
        "answer_dict[\"Q3\"] = [fuel_type[0] for fuel_type in ordered_ft_ls]\n",
        "print(\"List of fuel types sorted alphabetically -> {}\".format(answer_dict[\"Q3\"]))"
      ],
      "metadata": {
        "colab": {
          "base_uri": "https://localhost:8080/"
        },
        "id": "jg879vIYK13Q",
        "outputId": "b2ffe382-73e1-427d-a7e6-61f48dc6c9b5"
      },
      "execution_count": 22,
      "outputs": [
        {
          "output_type": "stream",
          "name": "stdout",
          "text": [
            "List of fuel types sorted alphabetically -> ['CNG', 'Diesel', 'Gasoline or E85', 'Gasoline or natural gas', 'Gasoline or propane', 'Midgrade', 'Premium', 'Premium Gas or Electricity', 'Premium and Electricity', 'Premium or E85', 'Regular', 'Regular Gas and Electricity', 'Regular Gas or Electricity']\n"
          ]
        }
      ]
    },
    {
      "cell_type": "markdown",
      "source": [
        "##Q4. Show the 9 Toyota cars with the most extreme Fuel Barrels/Year in abosolute terms within all Toyota cars. Show the car Model, Year and their Fuel Barrels/Year in standard deviation units([Z-score](https://fredclavel.org/2019/03/18/basics-standardization-and-the-z-score/)) **sorted** in descending order by their Fuel Barrels/Year in absolute terms first and then by year in descending order **BUT** without modifying the negative values (see example).\n",
        "\n",
        "##### Format: A 9X3 list with each row containing the Model, Year and Fuel Barrels/Year in standard deviations units\n",
        "\n",
        "##### Example answer: \n",
        "```\n",
        "[['DJ Po Vehicle 2WD', 2004, -6.407431084026927],\n",
        " ['FJ8c Post Office', 2003, -6.407431084026927],\n",
        " ['Post Office DJ5 2WD', 2005, -6.391684618442447],\n",
        " ['Sierra 2500 Hd 2WD', 2002, -6.391684618442447],\n",
        " ['Camry CNG', 2012, 2.677633075759575],\n",
        " ['Sierra 1500 4WD', 2005, 2.677633075759575],\n",
        " ['Sierra 1500 4WD', 2001, 2.677633075759575],\n",
        " ['V15 Suburban 4WD', 1988, 2.677633075759575],\n",
        " ['V15 Suburban 4WD', 1987, 2.677633075759575]]\n",
        "```\n",
        "#####Note that while the list is sorted by the Fuel Barrels/Year in absolute terms and in standard deviation units, the values are not modified. If the values are the same the rows are sorted by the year.\n"
      ],
      "metadata": {
        "id": "ijpZht03tV5W"
      }
    },
    {
      "cell_type": "markdown",
      "source": [
        "Calculating: sample's mean and standard deviation for Toyota cars"
      ],
      "metadata": {
        "id": "Bg03aK53UzEq"
      }
    },
    {
      "cell_type": "code",
      "source": [
        "toyota_df = df.select(\"Make\", \"Model\", \"Year\", \"Fuel Barrels/Year\").where(df[\"Make\"] == \"Toyota\")\n",
        "toyota_df.groupBy(\"Make\").agg(f.mean(\"Fuel Barrels/Year\"), f.stddev(\"Fuel Barrels/Year\")).show()"
      ],
      "metadata": {
        "colab": {
          "base_uri": "https://localhost:8080/"
        },
        "id": "nsoG_aeiatnj",
        "outputId": "03877d6f-7183-40c1-da3a-2069d92a3d4a"
      },
      "execution_count": 23,
      "outputs": [
        {
          "output_type": "stream",
          "name": "stdout",
          "text": [
            "+------+----------------------+------------------------------+\n",
            "|  Make|avg(Fuel Barrels/Year)|stddev_samp(Fuel Barrels/Year)|\n",
            "+------+----------------------+------------------------------+\n",
            "|Toyota|    16.153677357417322|             4.087129593247344|\n",
            "+------+----------------------+------------------------------+\n",
            "\n"
          ]
        }
      ]
    },
    {
      "cell_type": "code",
      "source": [
        "toyota_s_mean, toyota_s_stddev = toyota_df.groupBy(\"Make\").agg(f.mean(\"Fuel Barrels/Year\"), \n",
        "                                                               f.stddev(\"Fuel Barrels/Year\")).collect()[0][1:]\n",
        "print(\"Toyota cars: mean -> {}, standard deviation -> {}\".format(toyota_s_mean, toyota_s_stddev))"
      ],
      "metadata": {
        "id": "de_GgmrFVcvO",
        "colab": {
          "base_uri": "https://localhost:8080/"
        },
        "outputId": "b7cbffb1-9bbd-4be1-c3b7-2345a66b7d2b"
      },
      "execution_count": 24,
      "outputs": [
        {
          "output_type": "stream",
          "name": "stdout",
          "text": [
            "Toyota cars: mean -> 16.153677357417322, standard deviation -> 4.087129593247344\n"
          ]
        }
      ]
    },
    {
      "cell_type": "markdown",
      "source": [
        "Obtaning Z-score for Fuel Barrels/Year"
      ],
      "metadata": {
        "id": "67xFS5bYW98p"
      }
    },
    {
      "cell_type": "code",
      "source": [
        "# Adding an extra column with the absolute value of the Z score\n",
        "toyota_z_df = toyota_df.withColumn(\"z_score\", (f.col(\"Fuel Barrels/Year\") - toyota_s_mean)/toyota_s_stddev).withColumn(\"abs_z_score\", f.abs(\"z_score\"))\n",
        "toyota_z_df.show(10)"
      ],
      "metadata": {
        "colab": {
          "base_uri": "https://localhost:8080/"
        },
        "id": "flZdll6uaZof",
        "outputId": "fb3af8e9-2b0f-4a27-99a8-c7a0dbb73d6c"
      },
      "execution_count": 25,
      "outputs": [
        {
          "output_type": "stream",
          "name": "stdout",
          "text": [
            "+------+---------------+----+------------------+--------------------+-------------------+\n",
            "|  Make|          Model|Year| Fuel Barrels/Year|             z_score|        abs_z_score|\n",
            "+------+---------------+----+------------------+--------------------+-------------------+\n",
            "|Toyota|1-Ton Truck 2WD|1985|15.695714285714288|-0.11205004912486004|0.11205004912486004|\n",
            "|Toyota|1-Ton Truck 2WD|1985|15.695714285714288|-0.11205004912486004|0.11205004912486004|\n",
            "|Toyota|1-Ton Truck 2WD|1986|15.695714285714288|-0.11205004912486004|0.11205004912486004|\n",
            "|Toyota|1-Ton Truck 2WD|1986|14.330869565217393|-0.44598727557147405|0.44598727557147405|\n",
            "|Toyota|1-Ton Truck 2WD|1987|15.695714285714288|-0.11205004912486004|0.11205004912486004|\n",
            "|Toyota|1-Ton Truck 2WD|1987|14.330869565217393|-0.44598727557147405|0.44598727557147405|\n",
            "|Toyota|1-Ton Truck 2WD|1988|           16.4805| 0.07996385608194201|0.07996385608194201|\n",
            "|Toyota|1-Ton Truck 2WD|1988|18.311666666666667|  0.5279963015644824| 0.5279963015644824|\n",
            "|Toyota|1-Ton Truck 2WD|1989|17.347894736842107| 0.29218975131051433|0.29218975131051433|\n",
            "|Toyota|1-Ton Truck 2WD|1989|17.347894736842107| 0.29218975131051433|0.29218975131051433|\n",
            "+------+---------------+----+------------------+--------------------+-------------------+\n",
            "only showing top 10 rows\n",
            "\n"
          ]
        }
      ]
    },
    {
      "cell_type": "markdown",
      "source": [
        "Sorting \"in descending order by their Fuel Barrels/Year in absolute terms first and then by year in descending order\""
      ],
      "metadata": {
        "id": "N_MLrd_Affsc"
      }
    },
    {
      "cell_type": "code",
      "source": [
        "toyota_z_df.orderBy(f.desc(\"abs_z_score\"), f.desc(\"Year\")).show(10, truncate=False)"
      ],
      "metadata": {
        "colab": {
          "base_uri": "https://localhost:8080/"
        },
        "id": "Ar2n86COd27k",
        "outputId": "d60c2a5f-106d-4028-d502-72ec156005f3"
      },
      "execution_count": 26,
      "outputs": [
        {
          "output_type": "stream",
          "name": "stdout",
          "text": [
            "+------+---------------+----+------------------+-------------------+------------------+\n",
            "|Make  |Model          |Year|Fuel Barrels/Year |z_score            |abs_z_score       |\n",
            "+------+---------------+----+------------------+-------------------+------------------+\n",
            "|Toyota|Cab/Chassis 2WD|1993|32.961            |4.112255865424802  |4.112255865424802 |\n",
            "|Toyota|Cab/Chassis 2WD|1992|32.961            |4.112255865424802  |4.112255865424802 |\n",
            "|Toyota|Cab/Chassis 2WD|1991|32.961            |4.112255865424802  |4.112255865424802 |\n",
            "|Toyota|Cab/Chassis 2WD|1990|32.961            |4.112255865424802  |4.112255865424802 |\n",
            "|Toyota|Cab/Chassis 2WD|1989|32.961            |4.112255865424802  |4.112255865424802 |\n",
            "|Toyota|Camry CNG      |1999|0.0808695652173913|-3.9325417571185004|3.9325417571185004|\n",
            "|Toyota|Camry CNG      |2001|0.0845454545454545|-3.931642375475663 |3.931642375475663 |\n",
            "|Toyota|Camry CNG      |2000|0.0845454545454545|-3.931642375475663 |3.931642375475663 |\n",
            "|Toyota|Cab/Chassis 2WD|1993|29.96454545454546 |3.3791118637261017 |3.3791118637261017|\n",
            "|Toyota|Cab/Chassis 2WD|1992|29.96454545454546 |3.3791118637261017 |3.3791118637261017|\n",
            "+------+---------------+----+------------------+-------------------+------------------+\n",
            "only showing top 10 rows\n",
            "\n"
          ]
        }
      ]
    },
    {
      "cell_type": "markdown",
      "source": [
        "Saving the answer"
      ],
      "metadata": {
        "id": "UWBMja60g4V9"
      }
    },
    {
      "cell_type": "code",
      "source": [
        "model_col, year_col, zscore_col = 1, 2, 4\n",
        "# Limits the result to the top 9\n",
        "q4_results_ls = toyota_z_df.orderBy(f.desc(\"abs_z_score\"), f.desc(\"Year\")).head(9)\n",
        "# Unpacking answer\n",
        "answer_dict[\"Q4\"] = [[result[model_col], result[year_col], result[zscore_col]] for result in q4_results_ls]\n",
        "print(\"Most extreme Fuel Barrels/Year Toyota cars -> {}x{}:{}\".format(len(answer_dict[\"Q4\"]), len(answer_dict[\"Q4\"][0]), answer_dict[\"Q4\"]))"
      ],
      "metadata": {
        "colab": {
          "base_uri": "https://localhost:8080/"
        },
        "id": "HE9gv3OTg1kf",
        "outputId": "24d887b3-55ed-4236-89bd-bc6a23b7b98e"
      },
      "execution_count": 27,
      "outputs": [
        {
          "output_type": "stream",
          "name": "stdout",
          "text": [
            "Most extreme Fuel Barrels/Year Toyota cars -> 9x3:[['Cab/Chassis 2WD', 1993, 4.112255865424802], ['Cab/Chassis 2WD', 1992, 4.112255865424802], ['Cab/Chassis 2WD', 1991, 4.112255865424802], ['Cab/Chassis 2WD', 1990, 4.112255865424802], ['Cab/Chassis 2WD', 1989, 4.112255865424802], ['Camry CNG', 1999, -3.9325417571185004], ['Camry CNG', 2001, -3.931642375475663], ['Camry CNG', 2000, -3.931642375475663], ['Cab/Chassis 2WD', 1993, 3.3791118637261017]]\n"
          ]
        }
      ]
    },
    {
      "cell_type": "markdown",
      "source": [
        "##Q5. Calculate the changes in Combined MPG with their previous model of all Golf cars with Manual 5-spd transmission and Regular Fuel Type. Show the Year, the Combined MPG and the calculated difference of MPG in a list sorted by Year in ascending order.\n",
        "\n",
        "##### Format: A 19X3 list, with the Year and Combined MPG being of type integer **and only the calculated difference is of type float**\n",
        "##### **Note: The value for the first model should be 0.** It does not matter that there are gaps in the years, calculate with respect the previous model.\n",
        "\n",
        "#####Example answer:\n",
        "\n",
        "\n",
        "\n",
        "```\n",
        "[[1986, 25, 0.0],\n",
        " [1987, 25, 0.0],\n",
        " [1988, 25, 0.0],\n",
        " [1989, 25, 0.0],\n",
        " [1990, 23, -2.0],\n",
        " [1991, 23, 0.0],\n",
        " [1992, 24, 1.0],\n",
        " [1993, 25, 1.0],\n",
        " [1994, 25, 0.0],\n",
        " [1995, 25, 0.0],\n",
        " [1996, 25, 0.0],\n",
        " [1997, 25, 0.0],\n",
        " [1998, 24, -1.0],\n",
        " [1999, 25, 1.0],\n",
        " [2000, 24, -1.0],\n",
        " [2001, 24, 0.0],\n",
        " [2002, 24, 0.0],\n",
        " [2004, 24, 0.0],\n",
        " [2006, 24, 0.0]]\n",
        "```\n",
        "\n",
        "\n",
        "\n"
      ],
      "metadata": {
        "id": "7eCpEljJnXzt"
      }
    },
    {
      "cell_type": "markdown",
      "source": [
        "Preparing the dataset"
      ],
      "metadata": {
        "id": "6fWfxhVwpM3v"
      }
    },
    {
      "cell_type": "code",
      "source": [
        "diff_golf_df = df.select(\"Model\", \"Year\", \"Transmission\", \"Fuel Type\", \"Combined MPG\").where((df[\"Model\"] == \"Golf\") & (df[\"Transmission\"] == \"Manual 5-spd\") & (df[\"Fuel Type\"] == \"Regular\"))\n",
        "diff_golf_df.show()"
      ],
      "metadata": {
        "colab": {
          "base_uri": "https://localhost:8080/"
        },
        "id": "xkC6huwXm3A6",
        "outputId": "f2eadd58-ae8c-4c6e-d3ab-6df91134fc36"
      },
      "execution_count": 28,
      "outputs": [
        {
          "output_type": "stream",
          "name": "stdout",
          "text": [
            "+-----+----+------------+---------+------------+\n",
            "|Model|Year|Transmission|Fuel Type|Combined MPG|\n",
            "+-----+----+------------+---------+------------+\n",
            "| Golf|1986|Manual 5-spd|  Regular|          26|\n",
            "| Golf|1987|Manual 5-spd|  Regular|          26|\n",
            "| Golf|1988|Manual 5-spd|  Regular|          25|\n",
            "| Golf|1989|Manual 5-spd|  Regular|          25|\n",
            "| Golf|1999|Manual 5-spd|  Regular|          24|\n",
            "| Golf|2000|Manual 5-spd|  Regular|          24|\n",
            "| Golf|2001|Manual 5-spd|  Regular|          24|\n",
            "| Golf|2002|Manual 5-spd|  Regular|          24|\n",
            "| Golf|2003|Manual 5-spd|  Regular|          24|\n",
            "| Golf|2004|Manual 5-spd|  Regular|          24|\n",
            "| Golf|2005|Manual 5-spd|  Regular|          24|\n",
            "| Golf|2006|Manual 5-spd|  Regular|          24|\n",
            "| Golf|2010|Manual 5-spd|  Regular|          25|\n",
            "| Golf|2011|Manual 5-spd|  Regular|          26|\n",
            "| Golf|2012|Manual 5-spd|  Regular|          26|\n",
            "| Golf|2013|Manual 5-spd|  Regular|          26|\n",
            "| Golf|2015|Manual 5-spd|  Regular|          30|\n",
            "| Golf|2016|Manual 5-spd|  Regular|          30|\n",
            "| Golf|2017|Manual 5-spd|  Regular|          29|\n",
            "+-----+----+------------+---------+------------+\n",
            "\n"
          ]
        }
      ]
    },
    {
      "cell_type": "code",
      "source": [
        "# Defining a Window to process the previous row values\n",
        "window = Window.partitionBy().orderBy(\"Year\")\n",
        "diff_golf_df = diff_golf_df.withColumn(\"previous_Combined_MPG\", f.lag(df[\"Combined MPG\"]).over(window))\n",
        "# Calculating the difference, setting nulls as 0\n",
        "diff_golf_df = diff_golf_df.withColumn(\"difference\",\n",
        "                                       diff_golf_df[\"Combined MPG\"] - diff_golf_df[\"previous_Combined_MPG\"])\n",
        "diff_golf_df = diff_golf_df.na.fill(0)\n",
        "# Select desired info and cast to float\n",
        "q5_result_df = diff_golf_df.select(\"Year\", \"Combined MPG\", diff_golf_df[\"difference\"].cast(FloatType()))"
      ],
      "metadata": {
        "id": "Yrdipuw8pieA"
      },
      "execution_count": 29,
      "outputs": []
    },
    {
      "cell_type": "markdown",
      "source": [
        "Saving the answer"
      ],
      "metadata": {
        "id": "0IC1cia64gnM"
      }
    },
    {
      "cell_type": "code",
      "source": [
        "q5_result_df.show(5)"
      ],
      "metadata": {
        "colab": {
          "base_uri": "https://localhost:8080/"
        },
        "id": "jbqcqM4tpw-6",
        "outputId": "7b7b7731-2f9c-4772-aeb0-34c5758cbf2d"
      },
      "execution_count": 30,
      "outputs": [
        {
          "output_type": "stream",
          "name": "stdout",
          "text": [
            "+----+------------+----------+\n",
            "|Year|Combined MPG|difference|\n",
            "+----+------------+----------+\n",
            "|1986|          26|       0.0|\n",
            "|1987|          26|       0.0|\n",
            "|1988|          25|      -1.0|\n",
            "|1989|          25|       0.0|\n",
            "|1999|          24|      -1.0|\n",
            "+----+------------+----------+\n",
            "only showing top 5 rows\n",
            "\n"
          ]
        }
      ]
    },
    {
      "cell_type": "code",
      "source": [
        "year_col, cmpg_col, diff_col = range(3)\n",
        "q5_result_ls = q5_result_df.collect()\n",
        "# Unpacking answer\n",
        "answer_dict[\"Q5\"] = [[result[year_col], result[cmpg_col], result[diff_col]] for result in q5_result_ls]\n",
        "print(\"Changes in Combined MPG for specific Golf models -> {}x{}:{}\".format(len(answer_dict[\"Q5\"]), len(answer_dict[\"Q5\"][0]), answer_dict[\"Q5\"]))"
      ],
      "metadata": {
        "id": "lMlKfEWUH3S9",
        "colab": {
          "base_uri": "https://localhost:8080/"
        },
        "outputId": "75820e42-2e4c-4fa3-ca53-5d56a5c24b80"
      },
      "execution_count": 31,
      "outputs": [
        {
          "output_type": "stream",
          "name": "stdout",
          "text": [
            "Changes in Combined MPG for specific Golf models -> 19x3:[[1986, 26, 0.0], [1987, 26, 0.0], [1988, 25, -1.0], [1989, 25, 0.0], [1999, 24, -1.0], [2000, 24, 0.0], [2001, 24, 0.0], [2002, 24, 0.0], [2003, 24, 0.0], [2004, 24, 0.0], [2005, 24, 0.0], [2006, 24, 0.0], [2010, 25, 1.0], [2011, 26, 1.0], [2012, 26, 0.0], [2013, 26, 0.0], [2015, 30, 4.0], [2016, 30, 0.0], [2017, 29, -1.0]]\n"
          ]
        }
      ]
    },
    {
      "cell_type": "markdown",
      "source": [
        "##Q6. What are the top 5 lowest CO2 Emission Grams/Mile emmisions of cars for each of the following brands: Toyota, Ford, Volkswagen, Nissan, Honda\n",
        "\n",
        "#####Format: A 5X6 list with the first element of each row being the Make of the cars and the following five values being floats sorted in ascending order. The Makes should appear in order listed in the question starting with Toyota and ending with Honda (see example).\n",
        "\n",
        "#####Example answer:\n",
        "\n",
        "```\n",
        "[['Toyota', 100.0, 140.0, 140.0, 150.0, 150.0],\n",
        " ['Ford',\n",
        "  100.025641025641,\n",
        "  200.677633075759575,\n",
        "  200.677633075759575,\n",
        "  200.677633075759575,\n",
        "  200.677633075759575],\n",
        " ['Volkswagen', 139.0, 154.0, 166.5, 166.5, 166.5],\n",
        " ['Nissan', 122.0, 122.0, 122.0, 122.0, 160.0],\n",
        " ['Honda', 100.0, 100.0, 100.0, 100.0, 123.91684618442447]]\n",
        "```\n",
        "\n",
        "\n",
        "\n",
        "\n"
      ],
      "metadata": {
        "id": "EnHdqUs-nagE"
      }
    },
    {
      "cell_type": "markdown",
      "source": [
        "Preparing dataset"
      ],
      "metadata": {
        "id": "XE3RUH0IIWXP"
      }
    },
    {
      "cell_type": "code",
      "source": [
        "# Filtering\n",
        "brands = [\"Toyota\", \"Ford\", \"Volkswagen\", \"Nissan\", \"Honda\"]\n",
        "top_5_low_df = df.select(\"Make\", \"CO2 Emission Grams/Mile\").where(df[\"Make\"].isin(brands))\n",
        "# Sorting\n",
        "q6_result_df = top_5_low_df.orderBy(\"Make\",f.asc(\"CO2 Emission Grams/Mile\"))\n",
        "for brand in brands:\n",
        "  q6_result_df.where(f.col(\"Make\") == brand).show(5)"
      ],
      "metadata": {
        "colab": {
          "base_uri": "https://localhost:8080/"
        },
        "id": "_1pOLtt5Fjuq",
        "outputId": "265575a7-9fc5-4c20-e020-34c103556bd5"
      },
      "execution_count": 32,
      "outputs": [
        {
          "output_type": "stream",
          "name": "stdout",
          "text": [
            "+------+-----------------------+\n",
            "|  Make|CO2 Emission Grams/Mile|\n",
            "+------+-----------------------+\n",
            "|Toyota|                  133.0|\n",
            "|Toyota|                  133.0|\n",
            "|Toyota|                  133.0|\n",
            "|Toyota|                  133.0|\n",
            "|Toyota|                  158.0|\n",
            "+------+-----------------------+\n",
            "only showing top 5 rows\n",
            "\n",
            "+----+-----------------------+\n",
            "|Make|CO2 Emission Grams/Mile|\n",
            "+----+-----------------------+\n",
            "|Ford|                  112.0|\n",
            "|Ford|                  129.0|\n",
            "|Ford|                  129.0|\n",
            "|Ford|                  129.0|\n",
            "|Ford|                  129.0|\n",
            "+----+-----------------------+\n",
            "only showing top 5 rows\n",
            "\n",
            "+----------+-----------------------+\n",
            "|      Make|CO2 Emission Grams/Mile|\n",
            "+----------+-----------------------+\n",
            "|Volkswagen|                  200.0|\n",
            "|Volkswagen|                  200.0|\n",
            "|Volkswagen|                  200.0|\n",
            "|Volkswagen|                  200.0|\n",
            "|Volkswagen|       261.025641025641|\n",
            "+----------+-----------------------+\n",
            "only showing top 5 rows\n",
            "\n",
            "+------+-----------------------+\n",
            "|  Make|CO2 Emission Grams/Mile|\n",
            "+------+-----------------------+\n",
            "|Nissan|                  249.0|\n",
            "|Nissan|                  254.0|\n",
            "|Nissan|                  254.5|\n",
            "|Nissan|                  254.5|\n",
            "|Nissan|                  254.5|\n",
            "+------+-----------------------+\n",
            "only showing top 5 rows\n",
            "\n",
            "+-----+-----------------------+\n",
            "| Make|CO2 Emission Grams/Mile|\n",
            "+-----+-----------------------+\n",
            "|Honda|                  130.0|\n",
            "|Honda|     167.67924528301887|\n",
            "|Honda|     167.67924528301887|\n",
            "|Honda|     167.67924528301887|\n",
            "|Honda|     167.67924528301887|\n",
            "+-----+-----------------------+\n",
            "only showing top 5 rows\n",
            "\n"
          ]
        }
      ]
    },
    {
      "cell_type": "markdown",
      "source": [
        "Saving answer"
      ],
      "metadata": {
        "id": "4z1e2n8OKJiv"
      }
    },
    {
      "cell_type": "code",
      "source": [
        "# Saving in an auxiliary dict to enforce correct order\n",
        "q6_result_dic = {brand : q6_result_df.where(f.col(\"Make\") == brand).head(5) for brand in brands}"
      ],
      "metadata": {
        "id": "mR0V0kbgKLvt"
      },
      "execution_count": 33,
      "outputs": []
    },
    {
      "cell_type": "code",
      "source": [
        "# Column related to CO2 Emission Grams/Mile, i.e. q6_result_dic[\"Toyota\"][0][co2em_col] -> 133.0\n",
        "co2em_col = 1\n",
        "# Initializing our brands list of lists -> [['Toyota'], ['Ford'], ['Volkswagen'], ['Nissan'], ['Honda']]\n",
        "q6_result_ls = [[brand] for brand in brands]\n",
        "for n, brand in enumerate(brands):\n",
        "  # as our q6_result_dic has lists of rows as values, list comprehension is used to pivot through and unpack it\n",
        "  q6_result_ls[n].extend( [q6_result_dic[brand][x][co2em_col] for x in range( len(q6_result_dic[brand]) ) ] )\n",
        "# Unpacking answer\n",
        "answer_dict[\"Q6\"] = q6_result_ls\n",
        "print(\"Top 5 lowest CO2 Emission Grams/Mile for brands: {} -> {}x{}:{}\".format(brands, len(answer_dict[\"Q6\"]), len(answer_dict[\"Q6\"][0]), answer_dict[\"Q6\"]))"
      ],
      "metadata": {
        "id": "8KKg3bT6na41",
        "colab": {
          "base_uri": "https://localhost:8080/"
        },
        "outputId": "a9aa2586-7b4c-4087-e049-31b88fc73621"
      },
      "execution_count": 34,
      "outputs": [
        {
          "output_type": "stream",
          "name": "stdout",
          "text": [
            "Top 5 lowest CO2 Emission Grams/Mile for brands: ['Toyota', 'Ford', 'Volkswagen', 'Nissan', 'Honda'] -> 5x6:[['Toyota', 133.0, 133.0, 133.0, 133.0, 158.0], ['Ford', 112.0, 129.0, 129.0, 129.0, 129.0], ['Volkswagen', 200.0, 200.0, 200.0, 200.0, 261.025641025641], ['Nissan', 249.0, 254.0, 254.5, 254.5, 254.5], ['Honda', 130.0, 167.67924528301887, 167.67924528301887, 167.67924528301887, 167.67924528301887]]\n"
          ]
        }
      ]
    },
    {
      "cell_type": "markdown",
      "source": [
        "##Q7. Form 7 groups of 5 years to calculated the median Combined MPG of each group. The first group is from 1984 to 1988, the second from 1989 to 1993 and so on. The last group will have years not appearing in the dataset.\n",
        "\n",
        "#####Note: The groups ranges are inclusive on both sides, the first group starts with 1984 and cars from 1984 are included in it.\n",
        "#####Format : A 7X2 list with the first element of each row being a tuple of two integers being the lower and uppper range of the year groups and the esecond element being the median Combined MPG of that group, a float number.\n",
        "\n",
        "#####Example answer:\n",
        "\n",
        "\n",
        "```\n",
        "[[(1984, 1988), 11.0],\n",
        " [(1989, 1993), 10.0],\n",
        " [(1994, 1998), 10.0],\n",
        " [(1999, 2003), 14.0],\n",
        " [(2004, 2008), 13.0],\n",
        " [(2009, 2013), 14.0],\n",
        " [(2014, 2018), 15.0]]\n",
        "```\n",
        "\n"
      ],
      "metadata": {
        "id": "gDNo1Fcesgk5"
      }
    },
    {
      "cell_type": "markdown",
      "source": [
        "Preparing datasets"
      ],
      "metadata": {
        "id": "HyAiW3oXamVF"
      }
    },
    {
      "cell_type": "code",
      "source": [
        "# List of groups\n",
        "groups_tp = [(group, group + 4) for group in range(1984, 2018, 5)]\n",
        "# Creating a list of filtered Dataframes\n",
        "grouped_df_ls = []\n",
        "for group in groups_tp:\n",
        "  grouped_df_ls.append(\n",
        "      df.select(\"Year\", \"Combined MPG\").where((f.col(\"Year\") >= group[0]) &\n",
        "                                              (f.col(\"Year\") <= group[1])\n",
        "                                              ).withColumn(\"group\", f.lit(str(group)))\n",
        "      )\n",
        "# Showing the number of cars for each group\n",
        "for n, group in enumerate(grouped_df_ls):\n",
        "  print(\"Cars in group {}: {}\".format(groups_tp[n], group.count()))"
      ],
      "metadata": {
        "colab": {
          "base_uri": "https://localhost:8080/"
        },
        "id": "W2wT36rbYlRv",
        "outputId": "b1c88e9a-07f1-496c-8cbb-8ff3a4b844fd"
      },
      "execution_count": 35,
      "outputs": [
        {
          "output_type": "stream",
          "name": "stdout",
          "text": [
            "Cars in group (1984, 1988): 5731\n",
            "Cars in group (1989, 1993): 5501\n",
            "Cars in group (1994, 1998): 4208\n",
            "Cars in group (1999, 2003): 4552\n",
            "Cars in group (2004, 2008): 5678\n",
            "Cars in group (2009, 2013): 5722\n",
            "Cars in group (2014, 2018): 4560\n"
          ]
        }
      ]
    },
    {
      "cell_type": "code",
      "source": [
        "# Putting back the DF\n",
        "og_grouped_df = grouped_df_ls[0]\n",
        "for piece_df in grouped_df_ls[1:]:\n",
        "  og_grouped_df = og_grouped_df.union(piece_df)"
      ],
      "metadata": {
        "id": "MCthiS3YlBbB"
      },
      "execution_count": 36,
      "outputs": []
    },
    {
      "cell_type": "markdown",
      "source": [
        "Processing"
      ],
      "metadata": {
        "id": "CU8BJ4awwP8x"
      }
    },
    {
      "cell_type": "code",
      "source": [
        "# Defining a Window to rank each group\n",
        "window = Window.partitionBy(\"group\").orderBy(\"Combined MPG\")\n",
        "ranked_df = og_grouped_df.withColumn(\"row_id\", f.row_number().over(window)).select(\"group\", \"row_id\",  \"Combined MPG\")\n",
        "# Showing first 3 values for each group\n",
        "ranked_df.where(f.col(\"row_id\") <= 3).show(25)"
      ],
      "metadata": {
        "colab": {
          "base_uri": "https://localhost:8080/"
        },
        "id": "zyMHASQVVf7e",
        "outputId": "c81637a1-0e79-49f4-fc1d-d27a81c693d4"
      },
      "execution_count": 37,
      "outputs": [
        {
          "output_type": "stream",
          "name": "stdout",
          "text": [
            "+------------+------+------------+\n",
            "|       group|row_id|Combined MPG|\n",
            "+------------+------+------------+\n",
            "|(1984, 1988)|     1|           7|\n",
            "|(1984, 1988)|     2|           7|\n",
            "|(1984, 1988)|     3|           7|\n",
            "|(2014, 2018)|     1|          10|\n",
            "|(2014, 2018)|     2|          10|\n",
            "|(2014, 2018)|     3|          11|\n",
            "|(2004, 2008)|     1|           9|\n",
            "|(2004, 2008)|     2|           9|\n",
            "|(2004, 2008)|     3|           9|\n",
            "|(2009, 2013)|     1|          10|\n",
            "|(2009, 2013)|     2|          10|\n",
            "|(2009, 2013)|     3|          10|\n",
            "|(1989, 1993)|     1|           7|\n",
            "|(1989, 1993)|     2|           7|\n",
            "|(1989, 1993)|     3|           8|\n",
            "|(1994, 1998)|     1|           8|\n",
            "|(1994, 1998)|     2|           9|\n",
            "|(1994, 1998)|     3|           9|\n",
            "|(1999, 2003)|     1|           8|\n",
            "|(1999, 2003)|     2|           9|\n",
            "|(1999, 2003)|     3|           9|\n",
            "+------------+------+------------+\n",
            "\n"
          ]
        }
      ]
    },
    {
      "cell_type": "code",
      "source": [
        "# Collecting the number of registers by group in a list of Rows\n",
        "count_group_rows_ls = ranked_df.groupBy(\"group\").count().orderBy(\"group\").collect()"
      ],
      "metadata": {
        "id": "KFjNFm2Hy-aL"
      },
      "execution_count": 38,
      "outputs": []
    },
    {
      "cell_type": "code",
      "source": [
        "# Parametrs to find the median\n",
        "group_col, count_col, mid_index_col, odd_col, mean_value_col = range(5)\n",
        "params_ls = [ [group[group_col], group[count_col], int(group[count_col]/2), group[count_col]%2 == 1, 0.0] for group in count_group_rows_ls]\n",
        "params_ls"
      ],
      "metadata": {
        "colab": {
          "base_uri": "https://localhost:8080/"
        },
        "id": "MrRsQgHBsxQf",
        "outputId": "91752c72-02cc-457d-b036-657eb8df5399"
      },
      "execution_count": 39,
      "outputs": [
        {
          "output_type": "execute_result",
          "data": {
            "text/plain": [
              "[['(1984, 1988)', 5731, 2865, True, 0.0],\n",
              " ['(1989, 1993)', 5501, 2750, True, 0.0],\n",
              " ['(1994, 1998)', 4208, 2104, False, 0.0],\n",
              " ['(1999, 2003)', 4552, 2276, False, 0.0],\n",
              " ['(2004, 2008)', 5678, 2839, False, 0.0],\n",
              " ['(2009, 2013)', 5722, 2861, False, 0.0],\n",
              " ['(2014, 2018)', 4560, 2280, False, 0.0]]"
            ]
          },
          "metadata": {},
          "execution_count": 39
        }
      ]
    },
    {
      "cell_type": "code",
      "source": [
        "# Getting the data at the middle for each group\n",
        "mid_data_ls = []\n",
        "for param in params_ls:\n",
        "  mid_data_ls.append(ranked_df.where((f.col(\"group\") == param[group_col]) &\n",
        "                                     ((f.col(\"row_id\") == param[mid_index_col]) | (f.col(\"row_id\") == param[mid_index_col] + 1))\n",
        "                                     ).collect())\n",
        "mid_data_ls"
      ],
      "metadata": {
        "colab": {
          "base_uri": "https://localhost:8080/"
        },
        "id": "wwUQAXZ7wKZN",
        "outputId": "7945424b-0a97-41fa-8916-db2ec2c9c2b3"
      },
      "execution_count": 40,
      "outputs": [
        {
          "output_type": "execute_result",
          "data": {
            "text/plain": [
              "[[Row(group='(1984, 1988)', row_id=2865, Combined MPG=19),\n",
              "  Row(group='(1984, 1988)', row_id=2866, Combined MPG=19)],\n",
              " [Row(group='(1989, 1993)', row_id=2750, Combined MPG=18),\n",
              "  Row(group='(1989, 1993)', row_id=2751, Combined MPG=18)],\n",
              " [Row(group='(1994, 1998)', row_id=2104, Combined MPG=19),\n",
              "  Row(group='(1994, 1998)', row_id=2105, Combined MPG=19)],\n",
              " [Row(group='(1999, 2003)', row_id=2276, Combined MPG=19),\n",
              "  Row(group='(1999, 2003)', row_id=2277, Combined MPG=19)],\n",
              " [Row(group='(2004, 2008)', row_id=2839, Combined MPG=19),\n",
              "  Row(group='(2004, 2008)', row_id=2840, Combined MPG=19)],\n",
              " [Row(group='(2009, 2013)', row_id=2861, Combined MPG=21),\n",
              "  Row(group='(2009, 2013)', row_id=2862, Combined MPG=21)],\n",
              " [Row(group='(2014, 2018)', row_id=2280, Combined MPG=22),\n",
              "  Row(group='(2014, 2018)', row_id=2281, Combined MPG=22)]]"
            ]
          },
          "metadata": {},
          "execution_count": 40
        }
      ]
    },
    {
      "cell_type": "code",
      "source": [
        "# Middle indexes in mid_data_ls\n",
        "first_half_col, second_half_col = range(2)\n",
        "# Index of Combined MPG in mid_data_ls\n",
        "combined_mpg_col = 2\n",
        "for group, param in enumerate(params_ls):\n",
        "  if param[odd_col]: # Odd number of registers in group\n",
        "    param[mean_value_col] = mid_data_ls[group][second_half_col][combined_mpg_col] / 1.0\n",
        "  else: # Even number of registers in group\n",
        "    param[mean_value_col] = (mid_data_ls[group][first_half_col][combined_mpg_col] + mid_data_ls[group][second_half_col][combined_mpg_col]) / 2.0\n",
        "params_ls"
      ],
      "metadata": {
        "colab": {
          "base_uri": "https://localhost:8080/"
        },
        "id": "EA4NWs7B6Sz3",
        "outputId": "b3fb8fc8-7339-4705-deea-b4e54a40eaf7"
      },
      "execution_count": 41,
      "outputs": [
        {
          "output_type": "execute_result",
          "data": {
            "text/plain": [
              "[['(1984, 1988)', 5731, 2865, True, 19.0],\n",
              " ['(1989, 1993)', 5501, 2750, True, 18.0],\n",
              " ['(1994, 1998)', 4208, 2104, False, 19.0],\n",
              " ['(1999, 2003)', 4552, 2276, False, 19.0],\n",
              " ['(2004, 2008)', 5678, 2839, False, 19.0],\n",
              " ['(2009, 2013)', 5722, 2861, False, 21.0],\n",
              " ['(2014, 2018)', 4560, 2280, False, 22.0]]"
            ]
          },
          "metadata": {},
          "execution_count": 41
        }
      ]
    },
    {
      "cell_type": "markdown",
      "source": [
        "Saving answer"
      ],
      "metadata": {
        "id": "viU6RZ3iETqz"
      }
    },
    {
      "cell_type": "code",
      "source": [
        "q6_result_ls = [ [group_tp, params_ls[index][mean_value_col]] for index, group_tp in enumerate(groups_tp)]\n",
        "q6_result_ls"
      ],
      "metadata": {
        "colab": {
          "base_uri": "https://localhost:8080/"
        },
        "id": "Ji5gKuxcE3dn",
        "outputId": "a0bf13a1-d79c-4512-8ba4-91f3a66b57f4"
      },
      "execution_count": 42,
      "outputs": [
        {
          "output_type": "execute_result",
          "data": {
            "text/plain": [
              "[[(1984, 1988), 19.0],\n",
              " [(1989, 1993), 18.0],\n",
              " [(1994, 1998), 19.0],\n",
              " [(1999, 2003), 19.0],\n",
              " [(2004, 2008), 19.0],\n",
              " [(2009, 2013), 21.0],\n",
              " [(2014, 2018), 22.0]]"
            ]
          },
          "metadata": {},
          "execution_count": 42
        }
      ]
    },
    {
      "cell_type": "code",
      "source": [
        "# Saving answer in dic\n",
        "answer_dict[\"Q7\"] = [ [group_tp, params_ls[index][mean_value_col]] for index, group_tp in enumerate(groups_tp)]\n",
        "print(\"Median Combined MPG of each group -> {}x{}:{}\".format(len(answer_dict[\"Q7\"]), len(answer_dict[\"Q7\"][0]), answer_dict[\"Q7\"]))"
      ],
      "metadata": {
        "id": "1cMEyFXVxBU3",
        "colab": {
          "base_uri": "https://localhost:8080/"
        },
        "outputId": "53764410-b660-4253-d23b-ab7ac262b3d1"
      },
      "execution_count": 43,
      "outputs": [
        {
          "output_type": "stream",
          "name": "stdout",
          "text": [
            "Median Combined MPG of each group -> 7x2:[[(1984, 1988), 19.0], [(1989, 1993), 18.0], [(1994, 1998), 19.0], [(1999, 2003), 19.0], [(2004, 2008), 19.0], [(2009, 2013), 21.0], [(2014, 2018), 22.0]]\n"
          ]
        }
      ]
    },
    {
      "cell_type": "markdown",
      "source": [
        "##Test your answers\n",
        "\n",
        "##### We provide you some tests to make sure your answer dictionary is in the correct format using unittest.\n",
        "##### These tests are not meant to be comprehensive, you should review all your answers carefully."
      ],
      "metadata": {
        "id": "LiGydnlQ4cX4"
      }
    },
    {
      "cell_type": "code",
      "source": [
        "import unittest\n",
        "\n",
        "class TestAnswers(unittest.TestCase):\n",
        "    def test_if_dict(self):\n",
        "        self.assertIsInstance(answer_dict, dict)\n",
        "\n",
        "    def test_keys(self):\n",
        "        self.assertEqual(list(answer_dict.keys()), ['Q1', 'Q2', 'Q3', 'Q4', 'Q5', 'Q6', 'Q7'])\n",
        "\n",
        "    def test_answers_types(self):\n",
        "        types_values = [type(k) for k in answer_dict.values()]\n",
        "        answer_types = [float, list, list, list, list, list, list]\n",
        "        self.assertEqual(types_values, answer_types)\n",
        "\n",
        "    def test_Q1(self):\n",
        "        self.assertEqual(type(answer_dict['Q1']), float)\n",
        "\n",
        "    def test_Q2_dim(self):\n",
        "        self.assertEqual(np.array(answer_dict['Q2']).shape, (5,2))\n",
        "\n",
        "    def test_Q2_types(self):\n",
        "        dtype1 = type(answer_dict['Q2'][0][0])\n",
        "        dtype2 = type(answer_dict['Q2'][0][1])\n",
        "        self.assertEqual([dtype1, dtype2], [str, int])\n",
        "\n",
        "    def test_Q3_types(self):\n",
        "        q3_types = set([type(item) for item in answer_dict['Q3']])\n",
        "        self.assertEqual(q3_types, {str})\n",
        "\n",
        "    def test_Q4_dim(self):\n",
        "        self.assertEqual(np.array(answer_dict['Q4']).shape, (9,3))\n",
        "\n",
        "    def test_Q4_types(self):\n",
        "        dtype1 = type(answer_dict['Q4'][0][0])\n",
        "        dtype2 = type(answer_dict['Q4'][0][1])\n",
        "        dtype3 = type(answer_dict['Q4'][0][2])\n",
        "        self.assertEqual([dtype1, dtype2, dtype3], [str, int, float])\n",
        "\n",
        "    def test_Q5_dim(self):\n",
        "        self.assertEqual(np.array(answer_dict['Q5']).shape, (19,3))\n",
        "\n",
        "    def test_Q5_types(self):\n",
        "        dtype1 = type(answer_dict['Q5'][0][0])\n",
        "        dtype2 = type(answer_dict['Q5'][0][1])\n",
        "        dtype3 = type(answer_dict['Q5'][0][2])\n",
        "        self.assertEqual([dtype1, dtype2, dtype3], [int, int, float])\n",
        "\n",
        "    def test_Q5_first_zero(self):\n",
        "        self.assertEqual(answer_dict['Q5'][0][2], 0)\n",
        "\n",
        "\n",
        "    def test_Q6_dim(self):\n",
        "        self.assertEqual(np.array(answer_dict['Q6']).shape, (5,6))\n",
        "\n",
        "    def test_Q5_types(self):\n",
        "        dtype1 = type(answer_dict['Q6'][0][0])\n",
        "        dtype2 = type(answer_dict['Q6'][0][1])\n",
        "        dtype3 = type(answer_dict['Q6'][0][2])\n",
        "        dtype4 = type(answer_dict['Q6'][0][3])\n",
        "        dtype5 = type(answer_dict['Q6'][0][4])\n",
        "        dtype6 = type(answer_dict['Q6'][0][5])\n",
        "        self.assertEqual([dtype1, dtype2, dtype3, dtype4, dtype5, dtype6], [str, float, float, float, float, float])\n",
        "\n",
        "    def test_Q6_check_first_and_last_brand(self):\n",
        "        first_brand = answer_dict['Q6'][0][0]\n",
        "        last_brand = answer_dict['Q6'][4][0]\n",
        "\n",
        "        self.assertEqual([first_brand, last_brand], [\"Toyota\", \"Honda\"])\n",
        "\n",
        "    def test_Q7_dim(self):\n",
        "        self.assertEqual(np.array(answer_dict['Q7'], dtype=object).shape, (7,2))\n",
        "\n",
        "    def test_Q7_types(self):\n",
        "        dtype1 = type(answer_dict['Q7'][0][0])\n",
        "        dtype2 = type(answer_dict['Q7'][0][1])\n",
        "        self.assertEqual([dtype1, dtype2], [tuple, float])\n",
        "\n",
        "unittest.main(argv=[''], verbosity=2, exit=False)"
      ],
      "metadata": {
        "id": "iNwVFmHZ4csn",
        "colab": {
          "base_uri": "https://localhost:8080/"
        },
        "outputId": "71628f67-4bc8-4c32-9553-a0156df2e434"
      },
      "execution_count": 44,
      "outputs": [
        {
          "output_type": "stream",
          "name": "stderr",
          "text": [
            "test_Q1 (__main__.TestAnswers) ... ok\n",
            "test_Q2_dim (__main__.TestAnswers) ... ok\n",
            "test_Q2_types (__main__.TestAnswers) ... ok\n",
            "test_Q3_types (__main__.TestAnswers) ... ok\n",
            "test_Q4_dim (__main__.TestAnswers) ... ok\n",
            "test_Q4_types (__main__.TestAnswers) ... ok\n",
            "test_Q5_dim (__main__.TestAnswers) ... ok\n",
            "test_Q5_first_zero (__main__.TestAnswers) ... ok\n",
            "test_Q5_types (__main__.TestAnswers) ... ok\n",
            "test_Q6_check_first_and_last_brand (__main__.TestAnswers) ... ok\n",
            "test_Q6_dim (__main__.TestAnswers) ... ok\n",
            "test_Q7_dim (__main__.TestAnswers) ... ok\n",
            "test_Q7_types (__main__.TestAnswers) ... ok\n",
            "test_answers_types (__main__.TestAnswers) ... ok\n",
            "test_if_dict (__main__.TestAnswers) ... ok\n",
            "test_keys (__main__.TestAnswers) ... ok\n",
            "\n",
            "----------------------------------------------------------------------\n",
            "Ran 16 tests in 0.050s\n",
            "\n",
            "OK\n"
          ]
        },
        {
          "output_type": "execute_result",
          "data": {
            "text/plain": [
              "<unittest.main.TestProgram at 0x7ff5431e5350>"
            ]
          },
          "metadata": {},
          "execution_count": 44
        }
      ]
    },
    {
      "cell_type": "markdown",
      "source": [
        "##Save your answers\n",
        "\n",
        "\n",
        "##### First, take a moment to evaluate your answers and make sure you have not missed anything\n",
        "\n",
        "##### Use the following code to save your answers in pickle format, change the filename using the following format:\n",
        "##### FIRSTNAME_LASTNAME_answers.pkl\n",
        "##### Example: Juan_Perez_answers.pkl\n",
        "\n",
        "##### If you are using google colab you can find your file on the left side bar by clicking the folder icon inside the sample_data folder. Remember to upload the pickle file and the notebook to github and submit their URLs to the [google form](https://forms.gle/wWysZEMkoZsjB11Y7)."
      ],
      "metadata": {
        "id": "O_Wx_D0kGjmc"
      }
    },
    {
      "cell_type": "code",
      "source": [
        "answer_dict"
      ],
      "metadata": {
        "id": "nCzU1sKMknfH",
        "colab": {
          "base_uri": "https://localhost:8080/"
        },
        "outputId": "68b4c9f8-d2c5-411e-edc1-69409addcfd2"
      },
      "execution_count": 45,
      "outputs": [
        {
          "output_type": "execute_result",
          "data": {
            "text/plain": [
              "{'Q1': 392.7417210857633,\n",
              " 'Q2': [['Mercedes-Benz', 333],\n",
              "  ['BMW', 284],\n",
              "  ['Chevrolet', 253],\n",
              "  ['Ford', 185],\n",
              "  ['GMC', 163]],\n",
              " 'Q3': ['CNG',\n",
              "  'Diesel',\n",
              "  'Gasoline or E85',\n",
              "  'Gasoline or natural gas',\n",
              "  'Gasoline or propane',\n",
              "  'Midgrade',\n",
              "  'Premium',\n",
              "  'Premium Gas or Electricity',\n",
              "  'Premium and Electricity',\n",
              "  'Premium or E85',\n",
              "  'Regular',\n",
              "  'Regular Gas and Electricity',\n",
              "  'Regular Gas or Electricity'],\n",
              " 'Q4': [['Cab/Chassis 2WD', 1993, 4.112255865424802],\n",
              "  ['Cab/Chassis 2WD', 1992, 4.112255865424802],\n",
              "  ['Cab/Chassis 2WD', 1991, 4.112255865424802],\n",
              "  ['Cab/Chassis 2WD', 1990, 4.112255865424802],\n",
              "  ['Cab/Chassis 2WD', 1989, 4.112255865424802],\n",
              "  ['Camry CNG', 1999, -3.9325417571185004],\n",
              "  ['Camry CNG', 2001, -3.931642375475663],\n",
              "  ['Camry CNG', 2000, -3.931642375475663],\n",
              "  ['Cab/Chassis 2WD', 1993, 3.3791118637261017]],\n",
              " 'Q5': [[1986, 26, 0.0],\n",
              "  [1987, 26, 0.0],\n",
              "  [1988, 25, -1.0],\n",
              "  [1989, 25, 0.0],\n",
              "  [1999, 24, -1.0],\n",
              "  [2000, 24, 0.0],\n",
              "  [2001, 24, 0.0],\n",
              "  [2002, 24, 0.0],\n",
              "  [2003, 24, 0.0],\n",
              "  [2004, 24, 0.0],\n",
              "  [2005, 24, 0.0],\n",
              "  [2006, 24, 0.0],\n",
              "  [2010, 25, 1.0],\n",
              "  [2011, 26, 1.0],\n",
              "  [2012, 26, 0.0],\n",
              "  [2013, 26, 0.0],\n",
              "  [2015, 30, 4.0],\n",
              "  [2016, 30, 0.0],\n",
              "  [2017, 29, -1.0]],\n",
              " 'Q6': [['Toyota', 133.0, 133.0, 133.0, 133.0, 158.0],\n",
              "  ['Ford', 112.0, 129.0, 129.0, 129.0, 129.0],\n",
              "  ['Volkswagen', 200.0, 200.0, 200.0, 200.0, 261.025641025641],\n",
              "  ['Nissan', 249.0, 254.0, 254.5, 254.5, 254.5],\n",
              "  ['Honda',\n",
              "   130.0,\n",
              "   167.67924528301887,\n",
              "   167.67924528301887,\n",
              "   167.67924528301887,\n",
              "   167.67924528301887]],\n",
              " 'Q7': [[(1984, 1988), 19.0],\n",
              "  [(1989, 1993), 18.0],\n",
              "  [(1994, 1998), 19.0],\n",
              "  [(1999, 2003), 19.0],\n",
              "  [(2004, 2008), 19.0],\n",
              "  [(2009, 2013), 21.0],\n",
              "  [(2014, 2018), 22.0]]}"
            ]
          },
          "metadata": {},
          "execution_count": 45
        }
      ]
    },
    {
      "cell_type": "code",
      "source": [
        "import pickle\n",
        "\n",
        "file_name = \"Irving_Galindo_answers.pkl\"\n",
        "path = \"\"\n",
        "\n",
        "with open(path+file_name, 'wb') as f:\n",
        "    pickle.dump(answer_dict, f, protocol=pickle.HIGHEST_PROTOCOL)"
      ],
      "metadata": {
        "id": "dEZ-vo0QGTeu"
      },
      "execution_count": 46,
      "outputs": []
    },
    {
      "cell_type": "code",
      "source": [
        ""
      ],
      "metadata": {
        "id": "Na2-i610Jgu4"
      },
      "execution_count": 46,
      "outputs": []
    }
  ]
}